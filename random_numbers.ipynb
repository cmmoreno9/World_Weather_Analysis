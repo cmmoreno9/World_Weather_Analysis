{
 "cells": [
  {
   "cell_type": "code",
   "execution_count": 1,
   "id": "51997e93",
   "metadata": {},
   "outputs": [],
   "source": [
    "# import random module\n",
    "import random "
   ]
  },
  {
   "cell_type": "code",
   "execution_count": 2,
   "id": "5d0d6139",
   "metadata": {},
   "outputs": [
    {
     "data": {
      "text/plain": [
       "-80"
      ]
     },
     "execution_count": 2,
     "metadata": {},
     "output_type": "execute_result"
    }
   ],
   "source": [
    "random.randint(-90, 90)"
   ]
  },
  {
   "cell_type": "code",
   "execution_count": 3,
   "id": "b939e160",
   "metadata": {},
   "outputs": [
    {
     "data": {
      "text/plain": [
       "0.07994558147162745"
      ]
     },
     "execution_count": 3,
     "metadata": {},
     "output_type": "execute_result"
    }
   ],
   "source": [
    "random.random()"
   ]
  },
  {
   "cell_type": "code",
   "execution_count": 4,
   "id": "d28339ca",
   "metadata": {},
   "outputs": [
    {
     "data": {
      "text/plain": [
       "[-48.2182294329119,\n",
       " -15.52185907605785,\n",
       " 11.580254164973638,\n",
       " -43.04303008434887,\n",
       " 38.195882020748144,\n",
       " -34.23099020450227,\n",
       " -29.04167999920124,\n",
       " 4.587099735564708,\n",
       " 71.96906701863179,\n",
       " -52.64020694529408]"
      ]
     },
     "execution_count": 4,
     "metadata": {},
     "output_type": "execute_result"
    }
   ],
   "source": [
    "x = 1\n",
    "latitudes = []\n",
    "while x < 11:\n",
    "    random_lat = random.randint(-90, 89) + random.random()\n",
    "    latitudes.append(random_lat)\n",
    "    x += 1\n",
    "latitudes\n"
   ]
  },
  {
   "cell_type": "code",
   "execution_count": 5,
   "id": "db63bcd4",
   "metadata": {},
   "outputs": [
    {
     "data": {
      "text/plain": [
       "6"
      ]
     },
     "execution_count": 5,
     "metadata": {},
     "output_type": "execute_result"
    }
   ],
   "source": [
    "random.randrange(-90, 90, step=3)"
   ]
  },
  {
   "cell_type": "code",
   "execution_count": 6,
   "id": "988067d6",
   "metadata": {},
   "outputs": [
    {
     "data": {
      "text/plain": [
       "-76.28033396846715"
      ]
     },
     "execution_count": 6,
     "metadata": {},
     "output_type": "execute_result"
    }
   ],
   "source": [
    "random.uniform(-90, 90)"
   ]
  },
  {
   "cell_type": "code",
   "execution_count": 7,
   "id": "e7b927a6",
   "metadata": {},
   "outputs": [],
   "source": [
    "# Import the NumPy module.\n",
    "import numpy as np"
   ]
  },
  {
   "cell_type": "code",
   "execution_count": 8,
   "id": "bf1a9e67",
   "metadata": {},
   "outputs": [
    {
     "data": {
      "text/plain": [
       "9.850254887092774"
      ]
     },
     "execution_count": 8,
     "metadata": {},
     "output_type": "execute_result"
    }
   ],
   "source": [
    "np.random.uniform(-90.000, 90.000)"
   ]
  },
  {
   "cell_type": "code",
   "execution_count": 9,
   "id": "d3f8323e",
   "metadata": {},
   "outputs": [
    {
     "data": {
      "text/plain": [
       "array([-13.18637728,  27.78795687, -26.8278088 , -50.69291799,\n",
       "       -49.63329275, -83.87056165,  57.60129372, -37.02699322,\n",
       "       -44.53010298,  62.74054309,   0.63103435,  -5.71400683,\n",
       "       -31.29650516,  76.59222276,  17.73561536, -10.71924672,\n",
       "       -60.06679968,  14.8462157 , -24.32633791,  -3.59970488,\n",
       "       -30.00128769,  -4.50315484, -38.40364168,  -4.29041594,\n",
       "        52.35351044, -27.09405793, -41.82512917,  46.92921575,\n",
       "       -12.20578316, -43.1145847 ,   2.95005606,  -2.2049294 ,\n",
       "       -83.44032497,  49.27943427, -47.15153661, -40.79493472,\n",
       "         2.71659861, -48.15266534, -88.00179863,  75.49210115,\n",
       "        -2.47993817, -29.47613273,  58.77500044, -47.44303437,\n",
       "        59.42418636,  -3.12857128,  46.79492714,  43.38121537,\n",
       "       -78.83860375,  76.85954841])"
      ]
     },
     "execution_count": 9,
     "metadata": {},
     "output_type": "execute_result"
    }
   ],
   "source": [
    "np.random.uniform(-90.000, 90.000, size=50)"
   ]
  },
  {
   "cell_type": "code",
   "execution_count": 10,
   "id": "976d673a",
   "metadata": {},
   "outputs": [],
   "source": [
    "# Import timeit.\n",
    "import timeit"
   ]
  },
  {
   "cell_type": "code",
   "execution_count": 11,
   "id": "38242e8a",
   "metadata": {},
   "outputs": [
    {
     "name": "stdout",
     "output_type": "stream",
     "text": [
      "19.8 µs ± 4.52 µs per loop (mean ± std. dev. of 7 runs, 100,000 loops each)\n"
     ]
    }
   ],
   "source": [
    "%timeit np.random.uniform(-90.000, 90.000, size=1500)"
   ]
  },
  {
   "cell_type": "code",
   "execution_count": 12,
   "id": "2ebb71c9",
   "metadata": {},
   "outputs": [
    {
     "name": "stdout",
     "output_type": "stream",
     "text": [
      "1.71 ms ± 118 µs per loop (mean ± std. dev. of 7 runs, 1,000 loops each)\n"
     ]
    }
   ],
   "source": [
    "def latitudes(size):\n",
    "    latitudes = []\n",
    "    x = 0\n",
    "    while x < (size):\n",
    "        random_lat = random.randint(-90, 90) + random.random()\n",
    "        latitudes.append(random_lat)\n",
    "        x += 1\n",
    "    return latitudes\n",
    "# Call the function with 1500.\n",
    "%timeit latitudes(1500)"
   ]
  },
  {
   "cell_type": "code",
   "execution_count": null,
   "id": "f8ad9bbd",
   "metadata": {},
   "outputs": [],
   "source": []
  }
 ],
 "metadata": {
  "kernelspec": {
   "display_name": "Python 3 (ipykernel)",
   "language": "python",
   "name": "python3"
  },
  "language_info": {
   "codemirror_mode": {
    "name": "ipython",
    "version": 3
   },
   "file_extension": ".py",
   "mimetype": "text/x-python",
   "name": "python",
   "nbconvert_exporter": "python",
   "pygments_lexer": "ipython3",
   "version": "3.9.7"
  }
 },
 "nbformat": 4,
 "nbformat_minor": 5
}
